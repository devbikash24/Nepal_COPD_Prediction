{
 "cells": [
  {
   "cell_type": "code",
   "execution_count": 29,
   "metadata": {},
   "outputs": [],
   "source": [
    "# Importing necessary libraries\n",
    "import pickle\n",
    "import numpy as np\n",
    "import pandas as pd\n"
   ]
  },
  {
   "cell_type": "code",
   "execution_count": 30,
   "metadata": {},
   "outputs": [],
   "source": [
    "pipeline = pickle.load(open('../models/pipeline2.pkl', 'rb'))\n",
    "model = pickle.load(open('../models/random_forest_model2.pkl', 'rb'))"
   ]
  },
  {
   "cell_type": "code",
   "execution_count": 31,
   "metadata": {},
   "outputs": [],
   "source": [
    "df = pd.read_csv(\"../data/final_dataset_after_featureeng2.csv\")"
   ]
  },
  {
   "cell_type": "code",
   "execution_count": 32,
   "metadata": {},
   "outputs": [
    {
     "data": {
      "text/html": [
       "<div>\n",
       "<style scoped>\n",
       "    .dataframe tbody tr th:only-of-type {\n",
       "        vertical-align: middle;\n",
       "    }\n",
       "\n",
       "    .dataframe tbody tr th {\n",
       "        vertical-align: top;\n",
       "    }\n",
       "\n",
       "    .dataframe thead th {\n",
       "        text-align: right;\n",
       "    }\n",
       "</style>\n",
       "<table border=\"1\" class=\"dataframe\">\n",
       "  <thead>\n",
       "    <tr style=\"text-align: right;\">\n",
       "      <th></th>\n",
       "      <th>Age</th>\n",
       "      <th>Gender</th>\n",
       "      <th>Smoking_Status</th>\n",
       "      <th>Biomass_Fuel_Exposure</th>\n",
       "      <th>Occupational_Exposure</th>\n",
       "      <th>Family_History_COPD</th>\n",
       "      <th>BMI</th>\n",
       "      <th>Location</th>\n",
       "      <th>Air_Pollution_Level</th>\n",
       "      <th>Respiratory_Infections_Childhood</th>\n",
       "      <th>COPD_Diagnosis</th>\n",
       "      <th>Age_Category</th>\n",
       "      <th>BMI_category</th>\n",
       "      <th>Gender_encoded</th>\n",
       "      <th>Occupation_Family_History_Interaction</th>\n",
       "    </tr>\n",
       "  </thead>\n",
       "  <tbody>\n",
       "    <tr>\n",
       "      <th>0</th>\n",
       "      <td>31</td>\n",
       "      <td>Male</td>\n",
       "      <td>Former</td>\n",
       "      <td>NaN</td>\n",
       "      <td>NaN</td>\n",
       "      <td>NaN</td>\n",
       "      <td>27.56</td>\n",
       "      <td>Lalitpur</td>\n",
       "      <td>84</td>\n",
       "      <td>NaN</td>\n",
       "      <td>0</td>\n",
       "      <td>adult</td>\n",
       "      <td>overweight</td>\n",
       "      <td>1</td>\n",
       "      <td>NaN</td>\n",
       "    </tr>\n",
       "    <tr>\n",
       "      <th>1</th>\n",
       "      <td>60</td>\n",
       "      <td>Male</td>\n",
       "      <td>Never</td>\n",
       "      <td>NaN</td>\n",
       "      <td>NaN</td>\n",
       "      <td>NaN</td>\n",
       "      <td>30.30</td>\n",
       "      <td>Pokhara</td>\n",
       "      <td>131</td>\n",
       "      <td>NaN</td>\n",
       "      <td>0</td>\n",
       "      <td>old</td>\n",
       "      <td>obese</td>\n",
       "      <td>1</td>\n",
       "      <td>NaN</td>\n",
       "    </tr>\n",
       "    <tr>\n",
       "      <th>2</th>\n",
       "      <td>33</td>\n",
       "      <td>Male</td>\n",
       "      <td>Former</td>\n",
       "      <td>NaN</td>\n",
       "      <td>NaN</td>\n",
       "      <td>NaN</td>\n",
       "      <td>28.45</td>\n",
       "      <td>Pokhara</td>\n",
       "      <td>123</td>\n",
       "      <td>NaN</td>\n",
       "      <td>0</td>\n",
       "      <td>adult</td>\n",
       "      <td>overweight</td>\n",
       "      <td>1</td>\n",
       "      <td>NaN</td>\n",
       "    </tr>\n",
       "    <tr>\n",
       "      <th>3</th>\n",
       "      <td>36</td>\n",
       "      <td>Female</td>\n",
       "      <td>Current</td>\n",
       "      <td>NaN</td>\n",
       "      <td>NaN</td>\n",
       "      <td>NaN</td>\n",
       "      <td>27.49</td>\n",
       "      <td>Kathmandu</td>\n",
       "      <td>253</td>\n",
       "      <td>NaN</td>\n",
       "      <td>1</td>\n",
       "      <td>adult</td>\n",
       "      <td>overweight</td>\n",
       "      <td>0</td>\n",
       "      <td>NaN</td>\n",
       "    </tr>\n",
       "    <tr>\n",
       "      <th>4</th>\n",
       "      <td>58</td>\n",
       "      <td>Male</td>\n",
       "      <td>Never</td>\n",
       "      <td>NaN</td>\n",
       "      <td>NaN</td>\n",
       "      <td>NaN</td>\n",
       "      <td>25.49</td>\n",
       "      <td>Pokhara</td>\n",
       "      <td>117</td>\n",
       "      <td>NaN</td>\n",
       "      <td>0</td>\n",
       "      <td>middle_aged</td>\n",
       "      <td>overweight</td>\n",
       "      <td>1</td>\n",
       "      <td>NaN</td>\n",
       "    </tr>\n",
       "  </tbody>\n",
       "</table>\n",
       "</div>"
      ],
      "text/plain": [
       "   Age  Gender Smoking_Status  Biomass_Fuel_Exposure  Occupational_Exposure  \\\n",
       "0   31    Male         Former                    NaN                    NaN   \n",
       "1   60    Male          Never                    NaN                    NaN   \n",
       "2   33    Male         Former                    NaN                    NaN   \n",
       "3   36  Female        Current                    NaN                    NaN   \n",
       "4   58    Male          Never                    NaN                    NaN   \n",
       "\n",
       "   Family_History_COPD    BMI   Location  Air_Pollution_Level  \\\n",
       "0                  NaN  27.56   Lalitpur                   84   \n",
       "1                  NaN  30.30    Pokhara                  131   \n",
       "2                  NaN  28.45    Pokhara                  123   \n",
       "3                  NaN  27.49  Kathmandu                  253   \n",
       "4                  NaN  25.49    Pokhara                  117   \n",
       "\n",
       "   Respiratory_Infections_Childhood  COPD_Diagnosis Age_Category BMI_category  \\\n",
       "0                               NaN               0        adult   overweight   \n",
       "1                               NaN               0          old        obese   \n",
       "2                               NaN               0        adult   overweight   \n",
       "3                               NaN               1        adult   overweight   \n",
       "4                               NaN               0  middle_aged   overweight   \n",
       "\n",
       "   Gender_encoded  Occupation_Family_History_Interaction  \n",
       "0               1                                    NaN  \n",
       "1               1                                    NaN  \n",
       "2               1                                    NaN  \n",
       "3               0                                    NaN  \n",
       "4               1                                    NaN  "
      ]
     },
     "execution_count": 32,
     "metadata": {},
     "output_type": "execute_result"
    }
   ],
   "source": [
    "df.head()"
   ]
  },
  {
   "cell_type": "code",
   "execution_count": 33,
   "metadata": {},
   "outputs": [
    {
     "data": {
      "text/plain": [
       "Index(['Age', 'Gender', 'Smoking_Status', 'Biomass_Fuel_Exposure',\n",
       "       'Occupational_Exposure', 'Family_History_COPD', 'BMI', 'Location',\n",
       "       'Air_Pollution_Level', 'Respiratory_Infections_Childhood',\n",
       "       'COPD_Diagnosis', 'Age_Category', 'BMI_category', 'Gender_encoded',\n",
       "       'Occupation_Family_History_Interaction'],\n",
       "      dtype='object')"
      ]
     },
     "execution_count": 33,
     "metadata": {},
     "output_type": "execute_result"
    }
   ],
   "source": [
    "df.columns"
   ]
  },
  {
   "cell_type": "code",
   "execution_count": 37,
   "metadata": {},
   "outputs": [],
   "source": [
    "input_data = {\n",
    "    'Smoking_Status': ['Current'],\n",
    "    'Biomass_Fuel_Exposure': [1],\n",
    "    'Occupational_Exposure': [1],\n",
    "    'Family_History_COPD': [0],\n",
    "    'Location': ['Biratnagar'],\n",
    "    'Respiratory_Infections_Childhood': [1],\n",
    "    'Age_Category': ['old'],\n",
    "    'BMI_category': ['obese'],\n",
    "    'Air_Pollution_Level_category': ['Poor'],\n",
    "    'Gender_encoded': [1]\n",
    "    }\n",
    "\n"
   ]
  },
  {
   "cell_type": "code",
   "execution_count": 38,
   "metadata": {},
   "outputs": [],
   "source": [
    "# Compute the interaction feature (multiplication of 'Occupational_Exposure' and 'Family_History_COPD')\n",
    "input_data['Occupation_Family_History_Interaction'] = [\n",
    "    input_data['Occupational_Exposure'][0] * input_data['Family_History_COPD'][0]\n",
    "]"
   ]
  },
  {
   "cell_type": "code",
   "execution_count": 39,
   "metadata": {},
   "outputs": [],
   "source": [
    "test_input = pd.DataFrame(input_data)"
   ]
  },
  {
   "cell_type": "code",
   "execution_count": 41,
   "metadata": {},
   "outputs": [
    {
     "name": "stderr",
     "output_type": "stream",
     "text": [
      "C:\\Users\\LENOVO\\AppData\\Roaming\\Python\\Python312\\site-packages\\sklearn\\impute\\_base.py:598: UserWarning: Skipping features without any observed values: ['Biomass_Fuel_Exposure' 'Occupational_Exposure' 'Family_History_COPD'\n",
      " 'Respiratory_Infections_Childhood'\n",
      " 'Occupation_Family_History_Interaction']. At least one non-missing value is needed for imputation with strategy='mean'.\n",
      "  warnings.warn(\n"
     ]
    }
   ],
   "source": [
    "x_transformed=pipeline.transform(test_input)"
   ]
  },
  {
   "cell_type": "code",
   "execution_count": 42,
   "metadata": {},
   "outputs": [],
   "source": [
    "prediction = model.predict(x_transformed)"
   ]
  },
  {
   "cell_type": "code",
   "execution_count": 43,
   "metadata": {},
   "outputs": [
    {
     "name": "stdout",
     "output_type": "stream",
     "text": [
      "Prediction: Positive for COPD\n"
     ]
    }
   ],
   "source": [
    "print(f\"Prediction: {'Positive for COPD' if prediction[0] == 1 else 'Negative for COPD'}\")"
   ]
  },
  {
   "cell_type": "code",
   "execution_count": null,
   "metadata": {},
   "outputs": [],
   "source": []
  }
 ],
 "metadata": {
  "kernelspec": {
   "display_name": "Python 3",
   "language": "python",
   "name": "python3"
  },
  "language_info": {
   "codemirror_mode": {
    "name": "ipython",
    "version": 3
   },
   "file_extension": ".py",
   "mimetype": "text/x-python",
   "name": "python",
   "nbconvert_exporter": "python",
   "pygments_lexer": "ipython3",
   "version": "3.12.4"
  }
 },
 "nbformat": 4,
 "nbformat_minor": 2
}
